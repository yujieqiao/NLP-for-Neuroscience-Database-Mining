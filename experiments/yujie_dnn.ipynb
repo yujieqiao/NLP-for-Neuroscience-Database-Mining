{
 "cells": [
  {
   "cell_type": "code",
   "execution_count": 53,
   "id": "9e4121e7",
   "metadata": {},
   "outputs": [
    {
     "name": "stderr",
     "output_type": "stream",
     "text": [
      "/home/ec753/venvs/jupyter_env/lib/python3.10/site-packages/tqdm/auto.py:22: TqdmWarning: IProgress not found. Please update jupyter and ipywidgets. See https://ipywidgets.readthedocs.io/en/stable/user_install.html\n",
      "  from .autonotebook import tqdm as notebook_tqdm\n"
     ]
    }
   ],
   "source": [
    "import numpy as np\n",
    "import math"
   ]
  },
  {
   "cell_type": "code",
   "execution_count": 106,
   "id": "3eed49f2",
   "metadata": {},
   "outputs": [],
   "source": [
    "class MyClass:\n",
    "    def __init__(self, meta, x, y):\n",
    "        self.meta = meta\n",
    "        self.x = x # shape = [obvs, embedding_size]\n",
    "        self.y = y # shape = [meta_tags, obvs]\n",
    "        \n",
    "        self.train_index = np.arange(0, self.x.shape[0])\n",
    "        self.valid_index = np.array([])\n",
    "        \n",
    "    def define_train_valid(self, valid_index):\n",
    "        \n",
    "        self.valid_index = valid_index\n",
    "        \n",
    "        # remove valid_indices from train_index\n",
    "        for val in valid_index:\n",
    "            self.train_index = np.delete(self.train_index, np.argwhere(self.train_index == val))\n",
    "        \n",
    "    def shuffle(self):\n",
    "        self.train_index = np.random.permutation(self.train_index)\n",
    "        return\n",
    "    \n",
    "    def __repr__(self):\n",
    "        return f'data(x:{self.x.shape}, y:{self.y.shape})'\n",
    "    \n",
    "    def num_batches(self, batch_size):\n",
    "        return math.ceil(self.train_index.shape[0] / batch_size)\n",
    "        \n",
    "    def get_batch(self, batch_index, batch_size):\n",
    "        if batch_index > self.num_batches(batch_size) - 1:\n",
    "            print('ERROR: batch out of bounds')\n",
    "            return False\n",
    "        \n",
    "        batch_inds = self.train_index[batch_size*batch_index:batch_size*(batch_index+1)]\n",
    "        return self.x[batch_inds, :], self.y[:, batch_inds]\n",
    "\n",
    "meta = list(range(451))\n",
    "x = np.random.rand(1568, 768)\n",
    "y = np.random.rand(451, 1568)\n",
    "my_class = MyClass(meta, x, y)\n",
    "\n",
    "# if you have the model.fit do the batching, leave this out \n",
    "my_class.define_train_valid(np.array([2,1,11,0,9,5,15,26,17]))"
   ]
  },
  {
   "cell_type": "code",
   "execution_count": 79,
   "id": "f421aa7f",
   "metadata": {},
   "outputs": [
    {
     "data": {
      "text/plain": [
       "array([  49, 1167, 1484, ...,   33, 1507,   86])"
      ]
     },
     "execution_count": 79,
     "metadata": {},
     "output_type": "execute_result"
    }
   ],
   "source": [
    "my_class.shuffle()\n",
    "my_class.train_index"
   ]
  },
  {
   "cell_type": "code",
   "execution_count": 80,
   "id": "d8267398",
   "metadata": {},
   "outputs": [
    {
     "data": {
      "text/plain": [
       "(array([], dtype=int64),)"
      ]
     },
     "execution_count": 80,
     "metadata": {},
     "output_type": "execute_result"
    }
   ],
   "source": [
    "my_class"
   ]
  },
  {
   "cell_type": "code",
   "execution_count": 87,
   "id": "6cf391bb",
   "metadata": {},
   "outputs": [],
   "source": [
    "\n",
    "batch_size = 5\n",
    "#for meta_tag_index in range(len(my_class.meta)):\n",
    "for meta_tag_index in [single_hand_picked_meta_tag]:\n",
    "    \n",
    "    # define the model here\n",
    "    model = Seq...\n",
    "    \n",
    "    '''for batch_index in range(my_class.num_batches(batch_size)):\n",
    "        x_batch, y_batch = my_class.get_batch(batch_index, batch_size)\n",
    "        \n",
    "        y_batch = y_batch[:, meta_tag_index]'''\n",
    "    \n",
    "    model.fit(\n",
    "        x=my_class.x,\n",
    "        y=my_class.y[meta_tag_index,:],\n",
    "        batch_size=10,\n",
    "        epochs=5,\n",
    "        verbose='auto',\n",
    "        callbacks=None,\n",
    "        validation_split=0.2,\n",
    "        shuffle=True,\n",
    "        workers=1,\n",
    "        use_multiprocessing=False\n",
    "    )\n",
    "\n",
    "        \n",
    "        \n",
    "        "
   ]
  },
  {
   "cell_type": "code",
   "execution_count": null,
   "id": "c2c0de5b",
   "metadata": {},
   "outputs": [],
   "source": []
  }
 ],
 "metadata": {
  "kernelspec": {
   "display_name": "Python 3 (ipykernel)",
   "language": "python",
   "name": "python3"
  },
  "language_info": {
   "codemirror_mode": {
    "name": "ipython",
    "version": 3
   },
   "file_extension": ".py",
   "mimetype": "text/x-python",
   "name": "python",
   "nbconvert_exporter": "python",
   "pygments_lexer": "ipython3",
   "version": "3.10.6"
  }
 },
 "nbformat": 4,
 "nbformat_minor": 5
}
